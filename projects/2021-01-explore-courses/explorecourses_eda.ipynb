{
 "cells": [
  {
   "cell_type": "code",
   "execution_count": 2,
   "metadata": {},
   "outputs": [],
   "source": [
    "import argparse\n",
    "from datetime import datetime\n",
    "import json\n",
    "from pprint import pprint\n",
    "\n",
    "from explorecourses import *  # pip install the explorecourses package\n",
    "import pandas as pd"
   ]
  },
  {
   "cell_type": "code",
   "execution_count": 3,
   "metadata": {},
   "outputs": [],
   "source": [
    "import requests\n",
    "from typing import List, Tuple\n",
    "import xml.etree.ElementTree as ET"
   ]
  },
  {
   "cell_type": "code",
   "execution_count": 4,
   "metadata": {},
   "outputs": [],
   "source": [
    "_URL = \"https://explorecourses.stanford.edu/\"\n",
    "_session = requests.Session()"
   ]
  },
  {
   "cell_type": "code",
   "execution_count": 5,
   "metadata": {},
   "outputs": [],
   "source": [
    "def get_academic_year_str(years_ago: int = 0) -> str:\n",
    "    \"\"\"\n",
    "    Get the academic year in string form for some number of academic years ago.\n",
    "\n",
    "    Args:\n",
    "        years_ago (int): Number of academic years prior to now.\n",
    "\n",
    "    Returns:\n",
    "        Academic year formatted like '{start_year}-{end_year}'.\n",
    "    \"\"\"\n",
    "    academic_year_start = datetime.now().year - years_ago\n",
    "    \n",
    "    # If before September, academic year started last year\n",
    "    if datetime.now().month < 9:\n",
    "        academic_year_start -= 1\n",
    "\n",
    "    return f\"{academic_year_start}-{academic_year_start+1}\"\n",
    "\n",
    "\n",
    "def get_course_dict(course: Course, include_sections: bool = True):\n",
    "    \"\"\"\n",
    "    Converts course to string dict representation.\n",
    "\n",
    "    Args:\n",
    "        course (Course): Course to convert.\n",
    "\n",
    "    Returns:\n",
    "        course_dict: Course represented as dict of strings.\n",
    "    \"\"\"\n",
    "    if include_sections:\n",
    "        for section in course.sections:\n",
    "            for schedule in section.schedules:\n",
    "                schedule.instructors = tuple(str(ins) \n",
    "                                             for ins in schedule.instructors)\n",
    "            section.schedules = tuple(schedule.__dict__ \n",
    "                                      for schedule in section.schedules)\n",
    "            section.attributes = tuple(str(attr)\n",
    "                                       for attr in section.attributes)\n",
    "        course.sections = json.dumps(tuple(section.__dict__ \n",
    "                                           for section in course.sections))\n",
    "    else:\n",
    "        course.sections = None\n",
    "\n",
    "    course.attributes = tuple(str(attr) for attr in course.attributes)\n",
    "    course.objectives = tuple(str(obj) for obj in course.objectives)\n",
    "    course.tags = tuple(str(tag) for tag in course.tags)\n",
    "\n",
    "    course_dict = course.__dict__\n",
    "    return course_dict \n",
    "\n",
    "\n",
    "def download_one_year_course_data(years_ago: int = 0, \n",
    "                                  verbose: bool = False,\n",
    "                                  include_sections: bool = True) -> pd.DataFrame:\n",
    "    \"\"\"\n",
    "    Downloads a single year of course data and converts to pandas DataFrame.\n",
    "\n",
    "    Args:\n",
    "        years_ago (int): Number of academic years ago (including current) to \n",
    "                         download.\n",
    "    verbose (bool): Whether to use verbose output.\n",
    "        \n",
    "    Returns:\n",
    "        one_year_course_df (pd.DataFrame): One year of course data.\n",
    "    \"\"\"\n",
    "    academic_year_str = get_academic_year_str(years_ago)\n",
    "    if verbose: \n",
    "        print(f\"Downloading data for academic year: {academic_year_str}\")\n",
    "        \n",
    "    def get_courses_by_query(query: str, *filters: str, \n",
    "                             year=None) -> List[Course]:\n",
    "\n",
    "        \"\"\"\n",
    "        Gets all courses matched by a search query.\n",
    "        Args:\n",
    "            query (str): The search query.\n",
    "            *filters (str): Search query filters.\n",
    "            year (Optional[str]): The academic year within which to retrieve \n",
    "                courses (e.g., \"2017-2018\"). Defaults to None.\n",
    "        Returns:\n",
    "            List[Course]: The courses matching the search query.\n",
    "        \"\"\"\n",
    "        \n",
    "        url = _URL + \"search\"\n",
    "\n",
    "        payload = {\n",
    "            \"view\": \"xml-20200810\",\n",
    "            \"filter-coursestatus-Active\": \"on\",\n",
    "            \"q\": query,\n",
    "        }\n",
    "        payload.update({f: \"on\" for f in filters})\n",
    "        if year:\n",
    "            payload.update({\"academicYear\": year.replace('-', '')})\n",
    "\n",
    "        res = _session.get(url, params=payload)\n",
    "\n",
    "        root = ET.fromstring(res.content)\n",
    "        courses = root.findall(\".//course\")\n",
    "\n",
    "        return [Course(course) for course in courses]\n",
    "    \n",
    "    courses = get_courses_by_query(query='all courses', \n",
    "                                   year=academic_year_str)\n",
    "    if verbose:\n",
    "        print(f\"Converting data for academic year: {academic_year_str}\")\n",
    "    return pd.DataFrame(data=(get_course_dict(course, include_sections) \n",
    "                              for course in courses))\n",
    "\n",
    "\n",
    "\n",
    "def download_multiple_years_course_data(num_years: int = 11, \n",
    "                                        verbose: bool = False,\n",
    "                                        include_sections: bool = True\n",
    "                                       ) -> pd.DataFrame:\n",
    "    \"\"\"\n",
    "    Downloads multiple years of course data and converts to pandas DataFrame.\n",
    "\n",
    "    Args:\n",
    "        num_years (int): The number of years (including current) to download.\n",
    "        verbose (bool): Whether to use verbose output.\n",
    "    \"\"\"\n",
    "    return pd.concat(\n",
    "            objs=(download_one_year_course_data(years_ago, \n",
    "                                                verbose, \n",
    "                                                include_sections)\n",
    "                  for years_ago in range(num_years)), \n",
    "            axis=0)"
   ]
  },
  {
   "cell_type": "code",
   "execution_count": 7,
   "metadata": {},
   "outputs": [
    {
     "name": "stdout",
     "output_type": "stream",
     "text": [
      "Downloading data for academic year: 2020-2021\n",
      "Converting data for academic year: 2020-2021\n",
      "Downloading data for academic year: 2019-2020\n",
      "Converting data for academic year: 2019-2020\n",
      "Downloading data for academic year: 2018-2019\n",
      "Converting data for academic year: 2018-2019\n",
      "Downloading data for academic year: 2017-2018\n",
      "Converting data for academic year: 2017-2018\n",
      "Downloading data for academic year: 2016-2017\n",
      "Converting data for academic year: 2016-2017\n",
      "Downloading data for academic year: 2015-2016\n",
      "Converting data for academic year: 2015-2016\n",
      "Downloading data for academic year: 2014-2015\n",
      "Converting data for academic year: 2014-2015\n",
      "Downloading data for academic year: 2013-2014\n",
      "Converting data for academic year: 2013-2014\n",
      "Downloading data for academic year: 2012-2013\n",
      "Converting data for academic year: 2012-2013\n",
      "Downloading data for academic year: 2011-2012\n",
      "Converting data for academic year: 2011-2012\n",
      "Downloading data for academic year: 2010-2011\n",
      "Converting data for academic year: 2010-2011\n"
     ]
    }
   ],
   "source": [
    "num_years = 11\n",
    "verbose = True\n",
    "include_sections = True\n",
    "\n",
    "all_years_course_data_df = download_multiple_years_course_data(\n",
    "        num_years, verbose, include_sections)"
   ]
  },
  {
   "cell_type": "code",
   "execution_count": 8,
   "metadata": {},
   "outputs": [],
   "source": [
    "all_years_course_data_df.to_csv('all_course_data_01_13_2021.csv') "
   ]
  },
  {
   "cell_type": "markdown",
   "metadata": {},
   "source": [
    "### Start here if you have already saved it"
   ]
  },
  {
   "cell_type": "code",
   "execution_count": 4,
   "metadata": {},
   "outputs": [],
   "source": [
    "all_2010s_df = pd.read_csv('all_course_data_01_13_2021.csv')"
   ]
  },
  {
   "cell_type": "code",
   "execution_count": 5,
   "metadata": {},
   "outputs": [
    {
     "data": {
      "text/html": [
       "<div>\n",
       "<style scoped>\n",
       "    .dataframe tbody tr th:only-of-type {\n",
       "        vertical-align: middle;\n",
       "    }\n",
       "\n",
       "    .dataframe tbody tr th {\n",
       "        vertical-align: top;\n",
       "    }\n",
       "\n",
       "    .dataframe thead th {\n",
       "        text-align: right;\n",
       "    }\n",
       "</style>\n",
       "<table border=\"1\" class=\"dataframe\">\n",
       "  <thead>\n",
       "    <tr style=\"text-align: right;\">\n",
       "      <th></th>\n",
       "      <th>code</th>\n",
       "    </tr>\n",
       "    <tr>\n",
       "      <th>year</th>\n",
       "      <th></th>\n",
       "    </tr>\n",
       "  </thead>\n",
       "  <tbody>\n",
       "    <tr>\n",
       "      <th>2010-2011</th>\n",
       "      <td>3162</td>\n",
       "    </tr>\n",
       "    <tr>\n",
       "      <th>2011-2012</th>\n",
       "      <td>3282</td>\n",
       "    </tr>\n",
       "    <tr>\n",
       "      <th>2012-2013</th>\n",
       "      <td>3279</td>\n",
       "    </tr>\n",
       "    <tr>\n",
       "      <th>2013-2014</th>\n",
       "      <td>3525</td>\n",
       "    </tr>\n",
       "    <tr>\n",
       "      <th>2014-2015</th>\n",
       "      <td>3914</td>\n",
       "    </tr>\n",
       "    <tr>\n",
       "      <th>2015-2016</th>\n",
       "      <td>4083</td>\n",
       "    </tr>\n",
       "    <tr>\n",
       "      <th>2016-2017</th>\n",
       "      <td>4334</td>\n",
       "    </tr>\n",
       "    <tr>\n",
       "      <th>2017-2018</th>\n",
       "      <td>4459</td>\n",
       "    </tr>\n",
       "    <tr>\n",
       "      <th>2018-2019</th>\n",
       "      <td>4576</td>\n",
       "    </tr>\n",
       "    <tr>\n",
       "      <th>2019-2020</th>\n",
       "      <td>4571</td>\n",
       "    </tr>\n",
       "    <tr>\n",
       "      <th>2020-2021</th>\n",
       "      <td>4757</td>\n",
       "    </tr>\n",
       "  </tbody>\n",
       "</table>\n",
       "</div>"
      ],
      "text/plain": [
       "           code\n",
       "year           \n",
       "2010-2011  3162\n",
       "2011-2012  3282\n",
       "2012-2013  3279\n",
       "2013-2014  3525\n",
       "2014-2015  3914\n",
       "2015-2016  4083\n",
       "2016-2017  4334\n",
       "2017-2018  4459\n",
       "2018-2019  4576\n",
       "2019-2020  4571\n",
       "2020-2021  4757"
      ]
     },
     "execution_count": 5,
     "metadata": {},
     "output_type": "execute_result"
    }
   ],
   "source": [
    "all_2010s_df[['year', 'code']].drop_duplicates().groupby('year').count()"
   ]
  },
  {
   "cell_type": "code",
   "execution_count": 6,
   "metadata": {},
   "outputs": [],
   "source": [
    "all_2010s_df = all_2010s_df.loc[(all_2010s_df['year'] != '2020-2021')]"
   ]
  },
  {
   "cell_type": "code",
   "execution_count": 7,
   "metadata": {},
   "outputs": [],
   "source": [
    "academic_year_df = all_2010s_df[all_2010s_df['attributes'].apply(lambda x: 'NQTR::AUT' in x or 'NQTR::WIN' in x or 'NQTR::SPR' in x)]\\\n",
    "    [['year', 'subject', 'code', 'title', 'attributes', 'description', 'sections', 'gers']]\n",
    "\n",
    "academic_year_df['sections_clean'] = academic_year_df['sections']\\\n",
    "    .apply(lambda x: [(c['component'], c['curr_class_size'], c['term'].split()[-1]) \n",
    "                     for c in json.loads(x) \n",
    "                     if c['term'].split()[-1].lower() != 'summer'])\n",
    "academic_year_df = academic_year_df.explode('sections_clean')"
   ]
  },
  {
   "cell_type": "code",
   "execution_count": 8,
   "metadata": {},
   "outputs": [],
   "source": [
    "academic_year_df = academic_year_df\\\n",
    "    .drop('sections', 'columns')\\\n",
    "    .loc[academic_year_df['sections_clean'].notnull()]"
   ]
  },
  {
   "cell_type": "code",
   "execution_count": 9,
   "metadata": {},
   "outputs": [],
   "source": [
    "academic_year_df['component'] = academic_year_df['sections_clean'].apply(lambda x: x[0])\n",
    "academic_year_df['enrollment'] = academic_year_df['sections_clean'].apply(lambda x: x[1])\n",
    "academic_year_df['term'] = academic_year_df['sections_clean'].apply(lambda x: x[2])\n",
    "academic_year_df = academic_year_df.drop(['sections_clean', 'attributes'], 'columns')"
   ]
  },
  {
   "cell_type": "code",
   "execution_count": 10,
   "metadata": {},
   "outputs": [],
   "source": [
    "# Filter discussions, independent studies, labs, thesis/dissertation, and recitation\n",
    "academic_year_df = academic_year_df[~academic_year_df['component'].isin(\n",
    "    ['DIS', 'INS', 'LBS', 'T/D', 'RES'])]"
   ]
  },
  {
   "cell_type": "code",
   "execution_count": 11,
   "metadata": {},
   "outputs": [],
   "source": [
    "term_enrollment_df = academic_year_df\\\n",
    "    .groupby(['year', 'subject', 'code', 'title', 'description', 'term'])\\\n",
    "    .agg({'enrollment': 'sum'})\\\n",
    "    .sort_values(by='year').reset_index()"
   ]
  },
  {
   "cell_type": "code",
   "execution_count": 12,
   "metadata": {},
   "outputs": [
    {
     "data": {
      "text/html": [
       "<div>\n",
       "<style scoped>\n",
       "    .dataframe tbody tr th:only-of-type {\n",
       "        vertical-align: middle;\n",
       "    }\n",
       "\n",
       "    .dataframe tbody tr th {\n",
       "        vertical-align: top;\n",
       "    }\n",
       "\n",
       "    .dataframe thead th {\n",
       "        text-align: right;\n",
       "    }\n",
       "</style>\n",
       "<table border=\"1\" class=\"dataframe\">\n",
       "  <thead>\n",
       "    <tr style=\"text-align: right;\">\n",
       "      <th></th>\n",
       "      <th>year</th>\n",
       "      <th>subject</th>\n",
       "      <th>code</th>\n",
       "      <th>title</th>\n",
       "      <th>description</th>\n",
       "      <th>term</th>\n",
       "      <th>enrollment</th>\n",
       "    </tr>\n",
       "  </thead>\n",
       "  <tbody>\n",
       "    <tr>\n",
       "      <th>6464</th>\n",
       "      <td>2010-2011</td>\n",
       "      <td>CS</td>\n",
       "      <td>224N</td>\n",
       "      <td>Natural Language Processing (LINGUIST 284)</td>\n",
       "      <td>Methods for processing human language informat...</td>\n",
       "      <td>Winter</td>\n",
       "      <td>52</td>\n",
       "    </tr>\n",
       "    <tr>\n",
       "      <th>13801</th>\n",
       "      <td>2011-2012</td>\n",
       "      <td>CS</td>\n",
       "      <td>224N</td>\n",
       "      <td>Natural Language Processing (LINGUIST 284)</td>\n",
       "      <td>Methods for processing human language informat...</td>\n",
       "      <td>Autumn</td>\n",
       "      <td>68</td>\n",
       "    </tr>\n",
       "    <tr>\n",
       "      <th>21583</th>\n",
       "      <td>2012-2013</td>\n",
       "      <td>CS</td>\n",
       "      <td>224N</td>\n",
       "      <td>Natural Language Processing (LINGUIST 284)</td>\n",
       "      <td>Methods for processing human language informat...</td>\n",
       "      <td>Autumn</td>\n",
       "      <td>110</td>\n",
       "    </tr>\n",
       "    <tr>\n",
       "      <th>29587</th>\n",
       "      <td>2013-2014</td>\n",
       "      <td>CS</td>\n",
       "      <td>224N</td>\n",
       "      <td>Natural Language Processing (LINGUIST 284)</td>\n",
       "      <td>Methods for processing human language informat...</td>\n",
       "      <td>Autumn</td>\n",
       "      <td>99</td>\n",
       "    </tr>\n",
       "    <tr>\n",
       "      <th>35325</th>\n",
       "      <td>2014-2015</td>\n",
       "      <td>CS</td>\n",
       "      <td>224N</td>\n",
       "      <td>Natural Language Processing (LINGUIST 284)</td>\n",
       "      <td>Methods for processing human language informat...</td>\n",
       "      <td>Autumn</td>\n",
       "      <td>139</td>\n",
       "    </tr>\n",
       "    <tr>\n",
       "      <th>44065</th>\n",
       "      <td>2015-2016</td>\n",
       "      <td>CS</td>\n",
       "      <td>224N</td>\n",
       "      <td>Natural Language Processing (LINGUIST 284)</td>\n",
       "      <td>Methods for processing human language informat...</td>\n",
       "      <td>Autumn</td>\n",
       "      <td>174</td>\n",
       "    </tr>\n",
       "    <tr>\n",
       "      <th>52955</th>\n",
       "      <td>2016-2017</td>\n",
       "      <td>CS</td>\n",
       "      <td>224N</td>\n",
       "      <td>Natural Language Processing with Deep Learning...</td>\n",
       "      <td>Methods for processing human language informat...</td>\n",
       "      <td>Winter</td>\n",
       "      <td>669</td>\n",
       "    </tr>\n",
       "    <tr>\n",
       "      <th>61735</th>\n",
       "      <td>2017-2018</td>\n",
       "      <td>CS</td>\n",
       "      <td>224N</td>\n",
       "      <td>Natural Language Processing with Deep Learning...</td>\n",
       "      <td>Methods for processing human language informat...</td>\n",
       "      <td>Winter</td>\n",
       "      <td>416</td>\n",
       "    </tr>\n",
       "    <tr>\n",
       "      <th>71080</th>\n",
       "      <td>2018-2019</td>\n",
       "      <td>CS</td>\n",
       "      <td>224N</td>\n",
       "      <td>Natural Language Processing with Deep Learning...</td>\n",
       "      <td>Methods for processing human language informat...</td>\n",
       "      <td>Winter</td>\n",
       "      <td>471</td>\n",
       "    </tr>\n",
       "    <tr>\n",
       "      <th>71857</th>\n",
       "      <td>2018-2019</td>\n",
       "      <td>ARTHIST</td>\n",
       "      <td>224N</td>\n",
       "      <td>The Popular Culture of Abstract Art</td>\n",
       "      <td>Is abstract art inherently elitist? Or gendere...</td>\n",
       "      <td>Winter</td>\n",
       "      <td>12</td>\n",
       "    </tr>\n",
       "    <tr>\n",
       "      <th>80858</th>\n",
       "      <td>2019-2020</td>\n",
       "      <td>CS</td>\n",
       "      <td>224N</td>\n",
       "      <td>Natural Language Processing with Deep Learning...</td>\n",
       "      <td>Methods for processing human language informat...</td>\n",
       "      <td>Winter</td>\n",
       "      <td>531</td>\n",
       "    </tr>\n",
       "  </tbody>\n",
       "</table>\n",
       "</div>"
      ],
      "text/plain": [
       "            year  subject  code  \\\n",
       "6464   2010-2011       CS  224N   \n",
       "13801  2011-2012       CS  224N   \n",
       "21583  2012-2013       CS  224N   \n",
       "29587  2013-2014       CS  224N   \n",
       "35325  2014-2015       CS  224N   \n",
       "44065  2015-2016       CS  224N   \n",
       "52955  2016-2017       CS  224N   \n",
       "61735  2017-2018       CS  224N   \n",
       "71080  2018-2019       CS  224N   \n",
       "71857  2018-2019  ARTHIST  224N   \n",
       "80858  2019-2020       CS  224N   \n",
       "\n",
       "                                                   title  \\\n",
       "6464          Natural Language Processing (LINGUIST 284)   \n",
       "13801         Natural Language Processing (LINGUIST 284)   \n",
       "21583         Natural Language Processing (LINGUIST 284)   \n",
       "29587         Natural Language Processing (LINGUIST 284)   \n",
       "35325         Natural Language Processing (LINGUIST 284)   \n",
       "44065         Natural Language Processing (LINGUIST 284)   \n",
       "52955  Natural Language Processing with Deep Learning...   \n",
       "61735  Natural Language Processing with Deep Learning...   \n",
       "71080  Natural Language Processing with Deep Learning...   \n",
       "71857                The Popular Culture of Abstract Art   \n",
       "80858  Natural Language Processing with Deep Learning...   \n",
       "\n",
       "                                             description    term  enrollment  \n",
       "6464   Methods for processing human language informat...  Winter          52  \n",
       "13801  Methods for processing human language informat...  Autumn          68  \n",
       "21583  Methods for processing human language informat...  Autumn         110  \n",
       "29587  Methods for processing human language informat...  Autumn          99  \n",
       "35325  Methods for processing human language informat...  Autumn         139  \n",
       "44065  Methods for processing human language informat...  Autumn         174  \n",
       "52955  Methods for processing human language informat...  Winter         669  \n",
       "61735  Methods for processing human language informat...  Winter         416  \n",
       "71080  Methods for processing human language informat...  Winter         471  \n",
       "71857  Is abstract art inherently elitist? Or gendere...  Winter          12  \n",
       "80858  Methods for processing human language informat...  Winter         531  "
      ]
     },
     "execution_count": 12,
     "metadata": {},
     "output_type": "execute_result"
    }
   ],
   "source": [
    "term_enrollment_df.loc[term_enrollment_df['code'] == '224N']"
   ]
  },
  {
   "cell_type": "code",
   "execution_count": 13,
   "metadata": {},
   "outputs": [],
   "source": [
    "year_enrollment_df = term_enrollment_df\\\n",
    "    .groupby(['year', 'subject', 'code', 'title', 'description'])\\\n",
    "    .agg({'enrollment': 'sum'})\\\n",
    "    .sort_values(by='year').reset_index()"
   ]
  },
  {
   "cell_type": "code",
   "execution_count": 14,
   "metadata": {},
   "outputs": [
    {
     "data": {
      "text/html": [
       "<div>\n",
       "<style scoped>\n",
       "    .dataframe tbody tr th:only-of-type {\n",
       "        vertical-align: middle;\n",
       "    }\n",
       "\n",
       "    .dataframe tbody tr th {\n",
       "        vertical-align: top;\n",
       "    }\n",
       "\n",
       "    .dataframe thead th {\n",
       "        text-align: right;\n",
       "    }\n",
       "</style>\n",
       "<table border=\"1\" class=\"dataframe\">\n",
       "  <thead>\n",
       "    <tr style=\"text-align: right;\">\n",
       "      <th></th>\n",
       "      <th>year</th>\n",
       "      <th>subject</th>\n",
       "      <th>code</th>\n",
       "      <th>title</th>\n",
       "      <th>description</th>\n",
       "      <th>enrollment</th>\n",
       "    </tr>\n",
       "  </thead>\n",
       "  <tbody>\n",
       "    <tr>\n",
       "      <th>156</th>\n",
       "      <td>2010-2011</td>\n",
       "      <td>MCP</td>\n",
       "      <td>221</td>\n",
       "      <td>Advanced Cell Biology (BIO 214, BIOC 224)</td>\n",
       "      <td>For Ph.D. students. Current research on cell s...</td>\n",
       "      <td>1</td>\n",
       "    </tr>\n",
       "    <tr>\n",
       "      <th>653</th>\n",
       "      <td>2010-2011</td>\n",
       "      <td>MS&amp;E</td>\n",
       "      <td>221</td>\n",
       "      <td>Stochastic Modeling</td>\n",
       "      <td>Focus is on time-dependent random phenomena. T...</td>\n",
       "      <td>53</td>\n",
       "    </tr>\n",
       "    <tr>\n",
       "      <th>1224</th>\n",
       "      <td>2010-2011</td>\n",
       "      <td>LAW</td>\n",
       "      <td>221</td>\n",
       "      <td>Intellectual Property: Commercial Law</td>\n",
       "      <td>This seminar, co-taught by eBay's first In-Hou...</td>\n",
       "      <td>5</td>\n",
       "    </tr>\n",
       "    <tr>\n",
       "      <th>1293</th>\n",
       "      <td>2010-2011</td>\n",
       "      <td>INDE</td>\n",
       "      <td>221</td>\n",
       "      <td>Human Health and Disease II</td>\n",
       "      <td>Structure, function, disease, and therapeutics...</td>\n",
       "      <td>91</td>\n",
       "    </tr>\n",
       "    <tr>\n",
       "      <th>1376</th>\n",
       "      <td>2010-2011</td>\n",
       "      <td>JAPANGEN</td>\n",
       "      <td>221</td>\n",
       "      <td>Translating Japan, Translating the West (JAPAN...</td>\n",
       "      <td>Translation lies at the heart of all intercult...</td>\n",
       "      <td>10</td>\n",
       "    </tr>\n",
       "    <tr>\n",
       "      <th>...</th>\n",
       "      <td>...</td>\n",
       "      <td>...</td>\n",
       "      <td>...</td>\n",
       "      <td>...</td>\n",
       "      <td>...</td>\n",
       "      <td>...</td>\n",
       "    </tr>\n",
       "    <tr>\n",
       "      <th>65977</th>\n",
       "      <td>2019-2020</td>\n",
       "      <td>FILMSTUD</td>\n",
       "      <td>221</td>\n",
       "      <td>Out of Order</td>\n",
       "      <td>This course explores the rise of nonlinear app...</td>\n",
       "      <td>12</td>\n",
       "    </tr>\n",
       "    <tr>\n",
       "      <th>66069</th>\n",
       "      <td>2019-2020</td>\n",
       "      <td>GEOPHYS</td>\n",
       "      <td>221</td>\n",
       "      <td>Rivers: The Arteries of Earth's Continents (ES...</td>\n",
       "      <td>Rivers are the arteries of Earth's continents,...</td>\n",
       "      <td>2</td>\n",
       "    </tr>\n",
       "    <tr>\n",
       "      <th>66261</th>\n",
       "      <td>2019-2020</td>\n",
       "      <td>DLCL</td>\n",
       "      <td>221</td>\n",
       "      <td>Materia</td>\n",
       "      <td>Materia is a focal group on post-anthropocentr...</td>\n",
       "      <td>2</td>\n",
       "    </tr>\n",
       "    <tr>\n",
       "      <th>66297</th>\n",
       "      <td>2019-2020</td>\n",
       "      <td>ECON</td>\n",
       "      <td>221</td>\n",
       "      <td>Political Economy II (POLISCI 460B)</td>\n",
       "      <td>Continuation of 220. Preparation for advanced ...</td>\n",
       "      <td>2</td>\n",
       "    </tr>\n",
       "    <tr>\n",
       "      <th>66405</th>\n",
       "      <td>2019-2020</td>\n",
       "      <td>CSB</td>\n",
       "      <td>221</td>\n",
       "      <td>Methods and Logic in Chemical and Systems Biology</td>\n",
       "      <td>This course covers logic, experimental design ...</td>\n",
       "      <td>0</td>\n",
       "    </tr>\n",
       "  </tbody>\n",
       "</table>\n",
       "<p>189 rows × 6 columns</p>\n",
       "</div>"
      ],
      "text/plain": [
       "            year   subject code  \\\n",
       "156    2010-2011       MCP  221   \n",
       "653    2010-2011      MS&E  221   \n",
       "1224   2010-2011       LAW  221   \n",
       "1293   2010-2011      INDE  221   \n",
       "1376   2010-2011  JAPANGEN  221   \n",
       "...          ...       ...  ...   \n",
       "65977  2019-2020  FILMSTUD  221   \n",
       "66069  2019-2020   GEOPHYS  221   \n",
       "66261  2019-2020      DLCL  221   \n",
       "66297  2019-2020      ECON  221   \n",
       "66405  2019-2020       CSB  221   \n",
       "\n",
       "                                                   title  \\\n",
       "156            Advanced Cell Biology (BIO 214, BIOC 224)   \n",
       "653                                  Stochastic Modeling   \n",
       "1224               Intellectual Property: Commercial Law   \n",
       "1293                         Human Health and Disease II   \n",
       "1376   Translating Japan, Translating the West (JAPAN...   \n",
       "...                                                  ...   \n",
       "65977                                       Out of Order   \n",
       "66069  Rivers: The Arteries of Earth's Continents (ES...   \n",
       "66261                                            Materia   \n",
       "66297                Political Economy II (POLISCI 460B)   \n",
       "66405  Methods and Logic in Chemical and Systems Biology   \n",
       "\n",
       "                                             description  enrollment  \n",
       "156    For Ph.D. students. Current research on cell s...           1  \n",
       "653    Focus is on time-dependent random phenomena. T...          53  \n",
       "1224   This seminar, co-taught by eBay's first In-Hou...           5  \n",
       "1293   Structure, function, disease, and therapeutics...          91  \n",
       "1376   Translation lies at the heart of all intercult...          10  \n",
       "...                                                  ...         ...  \n",
       "65977  This course explores the rise of nonlinear app...          12  \n",
       "66069  Rivers are the arteries of Earth's continents,...           2  \n",
       "66261  Materia is a focal group on post-anthropocentr...           2  \n",
       "66297  Continuation of 220. Preparation for advanced ...           2  \n",
       "66405  This course covers logic, experimental design ...           0  \n",
       "\n",
       "[189 rows x 6 columns]"
      ]
     },
     "execution_count": 14,
     "metadata": {},
     "output_type": "execute_result"
    }
   ],
   "source": [
    "year_enrollment_df.loc[year_enrollment_df['code'] == '221']"
   ]
  },
  {
   "cell_type": "code",
   "execution_count": 15,
   "metadata": {},
   "outputs": [],
   "source": [
    "import matplotlib.pyplot as plt\n",
    "import seaborn as sns\n",
    "sns.set()"
   ]
  },
  {
   "cell_type": "code",
   "execution_count": 16,
   "metadata": {},
   "outputs": [],
   "source": [
    "year_enrollment_df['title'] = year_enrollment_df['title'].str.lower()\n",
    "year_enrollment_df['description'] = year_enrollment_df['description'].str.lower()"
   ]
  },
  {
   "cell_type": "markdown",
   "metadata": {},
   "source": [
    "### Enrollment in AI classes"
   ]
  },
  {
   "cell_type": "code",
   "execution_count": 17,
   "metadata": {},
   "outputs": [],
   "source": [
    "from matplotlib import rcParams\n",
    "rcParams.update({'figure.autolayout': True})"
   ]
  },
  {
   "cell_type": "code",
   "execution_count": 18,
   "metadata": {},
   "outputs": [
    {
     "data": {
      "text/plain": [
       "[]"
      ]
     },
     "execution_count": 18,
     "metadata": {},
     "output_type": "execute_result"
    },
    {
     "data": {
      "image/png": "[encoded data removed]",
      "text/plain": [
       "<Figure size 432x288 with 1 Axes>"
      ]
     },
     "metadata": {
      "needs_background": "light"
     },
     "output_type": "display_data"
    }
   ],
   "source": [
    "codes = ['221', '229', '231N', '224N', '234', '224W', '224U', '228', '238']\n",
    "\n",
    "for code in codes:\n",
    "    code_df = year_enrollment_df.loc[(year_enrollment_df['code'] == code) & (year_enrollment_df['subject'] == 'CS')]\n",
    "    plt.plot(code_df['year'], code_df['enrollment'], label=code)\n",
    "\n",
    "plt.ylabel('Yearly Enrollment')\n",
    "plt.xlabel('Academic Year')\n",
    "plt.title('2010s Enrollment in AI Classes')\n",
    "plt.legend()\n",
    "plt.xticks(rotation=45)\n",
    "plt.plot()"
   ]
  },
  {
   "cell_type": "code",
   "execution_count": 19,
   "metadata": {},
   "outputs": [],
   "source": [
    "#year_enrollment_df.to_csv('cs_yearly_enrollment_2010s.csv')\n",
    "\n",
    "#term_enrollment_df.to_csv('cs_term_enrollment_2010s.csv')"
   ]
  },
  {
   "cell_type": "markdown",
   "metadata": {},
   "source": [
    "### Enrollment in tech / tech-related classes"
   ]
  },
  {
   "cell_type": "code",
   "execution_count": 20,
   "metadata": {},
   "outputs": [],
   "source": [
    "import numpy as np"
   ]
  },
  {
   "cell_type": "code",
   "execution_count": 21,
   "metadata": {},
   "outputs": [],
   "source": [
    "tech_keys = ['data science', 'technology', 'cyber', ' ai ', 'artificial intelligence', 'computer science', 'computer', 'digital']\n",
    "ethics_keys = ['society', 'ethics', 'moral', 'social impact', 'justice']"
   ]
  },
  {
   "cell_type": "code",
   "execution_count": 22,
   "metadata": {},
   "outputs": [],
   "source": [
    "year_enrollment_df['tech_description'] = 0\n",
    "year_enrollment_df['tech_title'] = 0\n",
    "year_enrollment_df['ethics_description'] = 0\n",
    "year_enrollment_df['ethics_title'] = 0\n",
    "\n",
    "for i, row in year_enrollment_df.iterrows():\n",
    "    year_enrollment_df.at[i, 'tech_title'] = sum([key in row['title'] for key in tech_keys])\n",
    "    year_enrollment_df.at[i, 'tech_description'] = sum([key in row['description'] for key in tech_keys])\n",
    "    year_enrollment_df.at[i, 'ethics_title'] = sum([key in row['title'] for key in ethics_keys])\n",
    "    year_enrollment_df.at[i, 'ethics_description'] = sum([key in row['description'] for key in ethics_keys])"
   ]
  },
  {
   "cell_type": "code",
   "execution_count": 23,
   "metadata": {},
   "outputs": [],
   "source": [
    "year_enrollment_df = year_enrollment_df.loc[year_enrollment_df.year != '2020-2021']"
   ]
  },
  {
   "cell_type": "code",
   "execution_count": 24,
   "metadata": {},
   "outputs": [],
   "source": [
    "df_ethics = year_enrollment_df.loc[(year_enrollment_df['ethics_description'] > 0)]\n",
    "df_ethics = df_ethics.groupby('year').agg({'enrollment':'sum', 'code':'count'}).rename(columns = {'code':'count'})"
   ]
  },
  {
   "cell_type": "code",
   "execution_count": 25,
   "metadata": {},
   "outputs": [
    {
     "data": {
      "text/html": [
       "<div>\n",
       "<style scoped>\n",
       "    .dataframe tbody tr th:only-of-type {\n",
       "        vertical-align: middle;\n",
       "    }\n",
       "\n",
       "    .dataframe tbody tr th {\n",
       "        vertical-align: top;\n",
       "    }\n",
       "\n",
       "    .dataframe thead th {\n",
       "        text-align: right;\n",
       "    }\n",
       "</style>\n",
       "<table border=\"1\" class=\"dataframe\">\n",
       "  <thead>\n",
       "    <tr style=\"text-align: right;\">\n",
       "      <th></th>\n",
       "      <th>enrollment</th>\n",
       "      <th>count</th>\n",
       "    </tr>\n",
       "    <tr>\n",
       "      <th>year</th>\n",
       "      <th></th>\n",
       "      <th></th>\n",
       "    </tr>\n",
       "  </thead>\n",
       "  <tbody>\n",
       "    <tr>\n",
       "      <th>2010-2011</th>\n",
       "      <td>10412</td>\n",
       "      <td>429</td>\n",
       "    </tr>\n",
       "    <tr>\n",
       "      <th>2011-2012</th>\n",
       "      <td>11443</td>\n",
       "      <td>456</td>\n",
       "    </tr>\n",
       "    <tr>\n",
       "      <th>2012-2013</th>\n",
       "      <td>9023</td>\n",
       "      <td>499</td>\n",
       "    </tr>\n",
       "    <tr>\n",
       "      <th>2013-2014</th>\n",
       "      <td>9745</td>\n",
       "      <td>518</td>\n",
       "    </tr>\n",
       "    <tr>\n",
       "      <th>2014-2015</th>\n",
       "      <td>9857</td>\n",
       "      <td>602</td>\n",
       "    </tr>\n",
       "    <tr>\n",
       "      <th>2015-2016</th>\n",
       "      <td>10089</td>\n",
       "      <td>617</td>\n",
       "    </tr>\n",
       "    <tr>\n",
       "      <th>2016-2017</th>\n",
       "      <td>11579</td>\n",
       "      <td>659</td>\n",
       "    </tr>\n",
       "    <tr>\n",
       "      <th>2017-2018</th>\n",
       "      <td>12481</td>\n",
       "      <td>733</td>\n",
       "    </tr>\n",
       "    <tr>\n",
       "      <th>2018-2019</th>\n",
       "      <td>11912</td>\n",
       "      <td>724</td>\n",
       "    </tr>\n",
       "    <tr>\n",
       "      <th>2019-2020</th>\n",
       "      <td>12039</td>\n",
       "      <td>746</td>\n",
       "    </tr>\n",
       "  </tbody>\n",
       "</table>\n",
       "</div>"
      ],
      "text/plain": [
       "           enrollment  count\n",
       "year                        \n",
       "2010-2011       10412    429\n",
       "2011-2012       11443    456\n",
       "2012-2013        9023    499\n",
       "2013-2014        9745    518\n",
       "2014-2015        9857    602\n",
       "2015-2016       10089    617\n",
       "2016-2017       11579    659\n",
       "2017-2018       12481    733\n",
       "2018-2019       11912    724\n",
       "2019-2020       12039    746"
      ]
     },
     "execution_count": 25,
     "metadata": {},
     "output_type": "execute_result"
    }
   ],
   "source": [
    "df_ethics"
   ]
  },
  {
   "cell_type": "code",
   "execution_count": 26,
   "metadata": {},
   "outputs": [
    {
     "data": {
      "text/plain": [
       "[]"
      ]
     },
     "execution_count": 26,
     "metadata": {},
     "output_type": "execute_result"
    },
    {
     "data": {
      "image/png": "[encoded data removed]",
      "text/plain": [
       "<Figure size 432x288 with 1 Axes>"
      ]
     },
     "metadata": {
      "needs_background": "light"
     },
     "output_type": "display_data"
    }
   ],
   "source": [
    "df_tech = year_enrollment_df.loc[(year_enrollment_df['tech_description'] > 0) & (year_enrollment_df['subject'] != 'CS')]\n",
    "df_tech = df_tech.groupby('year').agg({'enrollment':'sum', 'code':'count'}).rename(columns = {'code':'count'})\n",
    "\n",
    "df_cs = year_enrollment_df.loc[(year_enrollment_df['subject'] == 'CS')]\n",
    "df_cs = df_cs.groupby('year').agg({'enrollment':'sum', 'code':'count'}).rename(columns = {'code':'count'})\n",
    "\n",
    "plt.plot(df_tech.index, df_tech['count'], label='non-CS tech-related courses')\n",
    "\n",
    "plt.plot(df_cs.index, df_cs['count'], label='CS courses')\n",
    "\n",
    "plt.ylabel('Yearly Number of Courses')\n",
    "plt.xlabel('Academic Year')\n",
    "plt.title('2010s Courses in CS + Non-CS Tech-Related Classes (by description)')\n",
    "plt.legend()\n",
    "plt.xticks(rotation=45)\n",
    "plt.plot()"
   ]
  },
  {
   "cell_type": "code",
   "execution_count": 27,
   "metadata": {},
   "outputs": [
    {
     "data": {
      "image/png": "[encoded data removed]",
      "text/plain": [
       "<Figure size 432x288 with 1 Axes>"
      ]
     },
     "metadata": {
      "needs_background": "light"
     },
     "output_type": "display_data"
    }
   ],
   "source": [
    "df_tech = year_enrollment_df.loc[(year_enrollment_df['tech_description'] > 0) & (year_enrollment_df['subject'] != 'CS')]\n",
    "df_tech = df_tech.groupby('year').agg({'enrollment':'sum', 'code':'count'}).rename(columns = {'code':'count'})\n",
    "\n",
    "df_cs = year_enrollment_df.loc[(year_enrollment_df['subject'] == 'CS')]\n",
    "df_cs = df_cs.groupby('year').agg({'enrollment':'sum', 'code':'count'}).rename(columns = {'code':'count'})\n",
    "\n",
    "\n",
    "fig, ax = plt.subplots(figsize=(6, 4))\n",
    "ax.plot(df_tech.index, df_tech['count'], label='non-CS tech-related courses')\n",
    "\n",
    "ax.plot(df_cs.index, df_cs['count'], label='CS courses')\n",
    "\n",
    "ax.set_ylabel('Yearly Number of Courses')\n",
    "ax.set_xlabel('Academic Year')\n",
    "ax.set_title('2010s Courses in CS + Non-CS Tech-Related Classes (by description)')\n",
    "ax.legend()\n",
    "ax.set_xticklabels(df_tech.index, rotation=45)\n",
    "fig.savefig('cs_non-cs-tech_count.png', format='png')"
   ]
  },
  {
   "cell_type": "code",
   "execution_count": 28,
   "metadata": {},
   "outputs": [
    {
     "data": {
      "text/html": [
       "<div>\n",
       "<style scoped>\n",
       "    .dataframe tbody tr th:only-of-type {\n",
       "        vertical-align: middle;\n",
       "    }\n",
       "\n",
       "    .dataframe tbody tr th {\n",
       "        vertical-align: top;\n",
       "    }\n",
       "\n",
       "    .dataframe thead th {\n",
       "        text-align: right;\n",
       "    }\n",
       "</style>\n",
       "<table border=\"1\" class=\"dataframe\">\n",
       "  <thead>\n",
       "    <tr style=\"text-align: right;\">\n",
       "      <th></th>\n",
       "      <th>enrollment</th>\n",
       "      <th>count</th>\n",
       "    </tr>\n",
       "    <tr>\n",
       "      <th>year</th>\n",
       "      <th></th>\n",
       "      <th></th>\n",
       "    </tr>\n",
       "  </thead>\n",
       "  <tbody>\n",
       "    <tr>\n",
       "      <th>2010-2011</th>\n",
       "      <td>10265</td>\n",
       "      <td>133</td>\n",
       "    </tr>\n",
       "    <tr>\n",
       "      <th>2011-2012</th>\n",
       "      <td>12312</td>\n",
       "      <td>133</td>\n",
       "    </tr>\n",
       "    <tr>\n",
       "      <th>2012-2013</th>\n",
       "      <td>13955</td>\n",
       "      <td>118</td>\n",
       "    </tr>\n",
       "    <tr>\n",
       "      <th>2013-2014</th>\n",
       "      <td>15516</td>\n",
       "      <td>139</td>\n",
       "    </tr>\n",
       "    <tr>\n",
       "      <th>2014-2015</th>\n",
       "      <td>17309</td>\n",
       "      <td>142</td>\n",
       "    </tr>\n",
       "    <tr>\n",
       "      <th>2015-2016</th>\n",
       "      <td>17580</td>\n",
       "      <td>153</td>\n",
       "    </tr>\n",
       "    <tr>\n",
       "      <th>2016-2017</th>\n",
       "      <td>18411</td>\n",
       "      <td>155</td>\n",
       "    </tr>\n",
       "    <tr>\n",
       "      <th>2017-2018</th>\n",
       "      <td>19127</td>\n",
       "      <td>157</td>\n",
       "    </tr>\n",
       "    <tr>\n",
       "      <th>2018-2019</th>\n",
       "      <td>20179</td>\n",
       "      <td>183</td>\n",
       "    </tr>\n",
       "    <tr>\n",
       "      <th>2019-2020</th>\n",
       "      <td>21506</td>\n",
       "      <td>208</td>\n",
       "    </tr>\n",
       "  </tbody>\n",
       "</table>\n",
       "</div>"
      ],
      "text/plain": [
       "           enrollment  count\n",
       "year                        \n",
       "2010-2011       10265    133\n",
       "2011-2012       12312    133\n",
       "2012-2013       13955    118\n",
       "2013-2014       15516    139\n",
       "2014-2015       17309    142\n",
       "2015-2016       17580    153\n",
       "2016-2017       18411    155\n",
       "2017-2018       19127    157\n",
       "2018-2019       20179    183\n",
       "2019-2020       21506    208"
      ]
     },
     "execution_count": 28,
     "metadata": {},
     "output_type": "execute_result"
    }
   ],
   "source": [
    "df_cs"
   ]
  },
  {
   "cell_type": "code",
   "execution_count": 29,
   "metadata": {},
   "outputs": [
    {
     "data": {
      "text/html": [
       "<div>\n",
       "<style scoped>\n",
       "    .dataframe tbody tr th:only-of-type {\n",
       "        vertical-align: middle;\n",
       "    }\n",
       "\n",
       "    .dataframe tbody tr th {\n",
       "        vertical-align: top;\n",
       "    }\n",
       "\n",
       "    .dataframe thead th {\n",
       "        text-align: right;\n",
       "    }\n",
       "</style>\n",
       "<table border=\"1\" class=\"dataframe\">\n",
       "  <thead>\n",
       "    <tr style=\"text-align: right;\">\n",
       "      <th></th>\n",
       "      <th>enrollment</th>\n",
       "      <th>count</th>\n",
       "    </tr>\n",
       "    <tr>\n",
       "      <th>year</th>\n",
       "      <th></th>\n",
       "      <th></th>\n",
       "    </tr>\n",
       "  </thead>\n",
       "  <tbody>\n",
       "    <tr>\n",
       "      <th>2010-2011</th>\n",
       "      <td>13285</td>\n",
       "      <td>392</td>\n",
       "    </tr>\n",
       "    <tr>\n",
       "      <th>2011-2012</th>\n",
       "      <td>13260</td>\n",
       "      <td>402</td>\n",
       "    </tr>\n",
       "    <tr>\n",
       "      <th>2012-2013</th>\n",
       "      <td>13406</td>\n",
       "      <td>450</td>\n",
       "    </tr>\n",
       "    <tr>\n",
       "      <th>2013-2014</th>\n",
       "      <td>12941</td>\n",
       "      <td>498</td>\n",
       "    </tr>\n",
       "    <tr>\n",
       "      <th>2014-2015</th>\n",
       "      <td>13337</td>\n",
       "      <td>539</td>\n",
       "    </tr>\n",
       "    <tr>\n",
       "      <th>2015-2016</th>\n",
       "      <td>13708</td>\n",
       "      <td>592</td>\n",
       "    </tr>\n",
       "    <tr>\n",
       "      <th>2016-2017</th>\n",
       "      <td>14577</td>\n",
       "      <td>618</td>\n",
       "    </tr>\n",
       "    <tr>\n",
       "      <th>2017-2018</th>\n",
       "      <td>13850</td>\n",
       "      <td>644</td>\n",
       "    </tr>\n",
       "    <tr>\n",
       "      <th>2018-2019</th>\n",
       "      <td>15040</td>\n",
       "      <td>669</td>\n",
       "    </tr>\n",
       "    <tr>\n",
       "      <th>2019-2020</th>\n",
       "      <td>15108</td>\n",
       "      <td>718</td>\n",
       "    </tr>\n",
       "  </tbody>\n",
       "</table>\n",
       "</div>"
      ],
      "text/plain": [
       "           enrollment  count\n",
       "year                        \n",
       "2010-2011       13285    392\n",
       "2011-2012       13260    402\n",
       "2012-2013       13406    450\n",
       "2013-2014       12941    498\n",
       "2014-2015       13337    539\n",
       "2015-2016       13708    592\n",
       "2016-2017       14577    618\n",
       "2017-2018       13850    644\n",
       "2018-2019       15040    669\n",
       "2019-2020       15108    718"
      ]
     },
     "execution_count": 29,
     "metadata": {},
     "output_type": "execute_result"
    }
   ],
   "source": [
    "df_tech"
   ]
  },
  {
   "cell_type": "code",
   "execution_count": 30,
   "metadata": {},
   "outputs": [
    {
     "data": {
      "text/plain": [
       "[]"
      ]
     },
     "execution_count": 30,
     "metadata": {},
     "output_type": "execute_result"
    },
    {
     "data": {
      "image/png": "[encoded data removed]",
      "text/plain": [
       "<Figure size 432x288 with 1 Axes>"
      ]
     },
     "metadata": {
      "needs_background": "light"
     },
     "output_type": "display_data"
    }
   ],
   "source": [
    "df_tech = year_enrollment_df.loc[(year_enrollment_df['tech_title'] > 0) & (year_enrollment_df['subject'] != 'CS')]\n",
    "df_tech = df_tech.groupby('year').agg({'enrollment':'sum', 'code':'count'}).rename(columns = {'code':'count'})\n",
    "\n",
    "df_cs = year_enrollment_df.loc[(year_enrollment_df['subject'] == 'CS')]\n",
    "df_cs = df_cs.groupby('year').agg({'enrollment':'sum', 'code':'count'}).rename(columns = {'code':'count'})\n",
    "\n",
    "plt.plot(df_tech.index, df_tech['count'], label='non-CS tech-related courses')\n",
    "\n",
    "plt.plot(df_cs.index, df_cs['count'], label='CS courses')\n",
    "\n",
    "plt.ylabel('Yearly Number of Courses')\n",
    "plt.xlabel('Academic Year')\n",
    "plt.title('2010s Courses in CS + Non-CS Tech-Related Classes (by title)')\n",
    "plt.legend()\n",
    "plt.xticks(rotation=45)\n",
    "plt.plot()"
   ]
  },
  {
   "cell_type": "code",
   "execution_count": 69,
   "metadata": {},
   "outputs": [
    {
     "data": {
      "image/png": "[encoded data removed]",
      "text/plain": [
       "<Figure size 432x288 with 1 Axes>"
      ]
     },
     "metadata": {
      "needs_background": "light"
     },
     "output_type": "display_data"
    }
   ],
   "source": [
    "df_tech = year_enrollment_df.loc[(year_enrollment_df['tech_description'] > 0) & (year_enrollment_df['subject'] != 'CS')]\n",
    "df_tech = df_tech.groupby('year').agg({'enrollment':'sum', 'code':'count'}).rename(columns = {'code':'count'})\n",
    "\n",
    "df_cs = year_enrollment_df.loc[(year_enrollment_df['subject'] == 'CS')]\n",
    "df_cs = df_cs.groupby('year').agg({'enrollment':'sum', 'code':'count'}).rename(columns = {'code':'count'})\n",
    "\n",
    "fig, ax = plt.subplots(figsize=(6, 4))\n",
    "ax.plot(df_tech.index, df_tech['enrollment'], label='non-CS tech-related courses')\n",
    "\n",
    "ax.plot(df_cs.index, df_cs['enrollment'], label='CS courses')\n",
    "\n",
    "ax.set_ylabel('Annual Enrollment')\n",
    "ax.set_xlabel('Academic Year')\n",
    "ax.set_title('Enrollment in CS + Non-CS Tech-Related Classes')\n",
    "ax.legend()\n",
    "ax.set_xticklabels(df_tech.index, rotation=45)\n",
    "fig.savefig('cs_non-cs-tech_enrollment.png', format='png')"
   ]
  },
  {
   "cell_type": "code",
   "execution_count": 32,
   "metadata": {},
   "outputs": [
    {
     "data": {
      "text/html": [
       "<div>\n",
       "<style scoped>\n",
       "    .dataframe tbody tr th:only-of-type {\n",
       "        vertical-align: middle;\n",
       "    }\n",
       "\n",
       "    .dataframe tbody tr th {\n",
       "        vertical-align: top;\n",
       "    }\n",
       "\n",
       "    .dataframe thead th {\n",
       "        text-align: right;\n",
       "    }\n",
       "</style>\n",
       "<table border=\"1\" class=\"dataframe\">\n",
       "  <thead>\n",
       "    <tr style=\"text-align: right;\">\n",
       "      <th></th>\n",
       "      <th>enrollment</th>\n",
       "      <th>count</th>\n",
       "    </tr>\n",
       "    <tr>\n",
       "      <th>year</th>\n",
       "      <th></th>\n",
       "      <th></th>\n",
       "    </tr>\n",
       "  </thead>\n",
       "  <tbody>\n",
       "    <tr>\n",
       "      <th>2010-2011</th>\n",
       "      <td>13285</td>\n",
       "      <td>392</td>\n",
       "    </tr>\n",
       "    <tr>\n",
       "      <th>2011-2012</th>\n",
       "      <td>13260</td>\n",
       "      <td>402</td>\n",
       "    </tr>\n",
       "    <tr>\n",
       "      <th>2012-2013</th>\n",
       "      <td>13406</td>\n",
       "      <td>450</td>\n",
       "    </tr>\n",
       "    <tr>\n",
       "      <th>2013-2014</th>\n",
       "      <td>12941</td>\n",
       "      <td>498</td>\n",
       "    </tr>\n",
       "    <tr>\n",
       "      <th>2014-2015</th>\n",
       "      <td>13337</td>\n",
       "      <td>539</td>\n",
       "    </tr>\n",
       "    <tr>\n",
       "      <th>2015-2016</th>\n",
       "      <td>13708</td>\n",
       "      <td>592</td>\n",
       "    </tr>\n",
       "    <tr>\n",
       "      <th>2016-2017</th>\n",
       "      <td>14577</td>\n",
       "      <td>618</td>\n",
       "    </tr>\n",
       "    <tr>\n",
       "      <th>2017-2018</th>\n",
       "      <td>13850</td>\n",
       "      <td>644</td>\n",
       "    </tr>\n",
       "    <tr>\n",
       "      <th>2018-2019</th>\n",
       "      <td>15040</td>\n",
       "      <td>669</td>\n",
       "    </tr>\n",
       "    <tr>\n",
       "      <th>2019-2020</th>\n",
       "      <td>15108</td>\n",
       "      <td>718</td>\n",
       "    </tr>\n",
       "  </tbody>\n",
       "</table>\n",
       "</div>"
      ],
      "text/plain": [
       "           enrollment  count\n",
       "year                        \n",
       "2010-2011       13285    392\n",
       "2011-2012       13260    402\n",
       "2012-2013       13406    450\n",
       "2013-2014       12941    498\n",
       "2014-2015       13337    539\n",
       "2015-2016       13708    592\n",
       "2016-2017       14577    618\n",
       "2017-2018       13850    644\n",
       "2018-2019       15040    669\n",
       "2019-2020       15108    718"
      ]
     },
     "execution_count": 32,
     "metadata": {},
     "output_type": "execute_result"
    }
   ],
   "source": [
    "df_tech"
   ]
  },
  {
   "cell_type": "code",
   "execution_count": 33,
   "metadata": {},
   "outputs": [
    {
     "data": {
      "text/html": [
       "<div>\n",
       "<style scoped>\n",
       "    .dataframe tbody tr th:only-of-type {\n",
       "        vertical-align: middle;\n",
       "    }\n",
       "\n",
       "    .dataframe tbody tr th {\n",
       "        vertical-align: top;\n",
       "    }\n",
       "\n",
       "    .dataframe thead th {\n",
       "        text-align: right;\n",
       "    }\n",
       "</style>\n",
       "<table border=\"1\" class=\"dataframe\">\n",
       "  <thead>\n",
       "    <tr style=\"text-align: right;\">\n",
       "      <th></th>\n",
       "      <th>enrollment</th>\n",
       "      <th>count</th>\n",
       "    </tr>\n",
       "    <tr>\n",
       "      <th>year</th>\n",
       "      <th></th>\n",
       "      <th></th>\n",
       "    </tr>\n",
       "  </thead>\n",
       "  <tbody>\n",
       "    <tr>\n",
       "      <th>2010-2011</th>\n",
       "      <td>10265</td>\n",
       "      <td>133</td>\n",
       "    </tr>\n",
       "    <tr>\n",
       "      <th>2011-2012</th>\n",
       "      <td>12312</td>\n",
       "      <td>133</td>\n",
       "    </tr>\n",
       "    <tr>\n",
       "      <th>2012-2013</th>\n",
       "      <td>13955</td>\n",
       "      <td>118</td>\n",
       "    </tr>\n",
       "    <tr>\n",
       "      <th>2013-2014</th>\n",
       "      <td>15516</td>\n",
       "      <td>139</td>\n",
       "    </tr>\n",
       "    <tr>\n",
       "      <th>2014-2015</th>\n",
       "      <td>17309</td>\n",
       "      <td>142</td>\n",
       "    </tr>\n",
       "    <tr>\n",
       "      <th>2015-2016</th>\n",
       "      <td>17580</td>\n",
       "      <td>153</td>\n",
       "    </tr>\n",
       "    <tr>\n",
       "      <th>2016-2017</th>\n",
       "      <td>18411</td>\n",
       "      <td>155</td>\n",
       "    </tr>\n",
       "    <tr>\n",
       "      <th>2017-2018</th>\n",
       "      <td>19127</td>\n",
       "      <td>157</td>\n",
       "    </tr>\n",
       "    <tr>\n",
       "      <th>2018-2019</th>\n",
       "      <td>20179</td>\n",
       "      <td>183</td>\n",
       "    </tr>\n",
       "    <tr>\n",
       "      <th>2019-2020</th>\n",
       "      <td>21506</td>\n",
       "      <td>208</td>\n",
       "    </tr>\n",
       "  </tbody>\n",
       "</table>\n",
       "</div>"
      ],
      "text/plain": [
       "           enrollment  count\n",
       "year                        \n",
       "2010-2011       10265    133\n",
       "2011-2012       12312    133\n",
       "2012-2013       13955    118\n",
       "2013-2014       15516    139\n",
       "2014-2015       17309    142\n",
       "2015-2016       17580    153\n",
       "2016-2017       18411    155\n",
       "2017-2018       19127    157\n",
       "2018-2019       20179    183\n",
       "2019-2020       21506    208"
      ]
     },
     "execution_count": 33,
     "metadata": {},
     "output_type": "execute_result"
    }
   ],
   "source": [
    "df_cs"
   ]
  },
  {
   "cell_type": "code",
   "execution_count": 34,
   "metadata": {},
   "outputs": [
    {
     "data": {
      "text/plain": [
       "[]"
      ]
     },
     "execution_count": 34,
     "metadata": {},
     "output_type": "execute_result"
    },
    {
     "data": {
      "image/png": "[encoded data removed]",
      "text/plain": [
       "<Figure size 432x288 with 1 Axes>"
      ]
     },
     "metadata": {
      "needs_background": "light"
     },
     "output_type": "display_data"
    }
   ],
   "source": [
    "df_tech = year_enrollment_df.loc[(year_enrollment_df['tech_description'] > 0) | (year_enrollment_df['subject'] == 'CS')]\n",
    "df_tech = df_tech.groupby('year').agg({'enrollment':'sum', 'code':'count'}).rename(columns = {'code':'count'})\n",
    "\n",
    "df_not_tech = year_enrollment_df.loc[(year_enrollment_df['tech_description'] == 0) & (year_enrollment_df['subject'] != 'CS')]\n",
    "df_not_tech = df_not_tech.groupby('year').agg({'enrollment':'sum', 'code':'count'}).rename(columns = {'code':'count'})\n",
    "\n",
    "plt.plot(df_tech.index, df_tech['count'], label='tech-related courses')\n",
    "\n",
    "plt.plot(df_not_tech.index, df_not_tech['count'], label='non-tech courses')\n",
    "\n",
    "plt.ylabel('Yearly Number of Courses')\n",
    "plt.xlabel('Academic Year')\n",
    "plt.title('2010s Courses in Tech vs non-Tech classes (by description)')\n",
    "plt.legend()\n",
    "plt.xticks(rotation=45)\n",
    "plt.plot()"
   ]
  },
  {
   "cell_type": "code",
   "execution_count": 37,
   "metadata": {},
   "outputs": [
    {
     "data": {
      "text/html": [
       "<div>\n",
       "<style scoped>\n",
       "    .dataframe tbody tr th:only-of-type {\n",
       "        vertical-align: middle;\n",
       "    }\n",
       "\n",
       "    .dataframe tbody tr th {\n",
       "        vertical-align: top;\n",
       "    }\n",
       "\n",
       "    .dataframe thead th {\n",
       "        text-align: right;\n",
       "    }\n",
       "</style>\n",
       "<table border=\"1\" class=\"dataframe\">\n",
       "  <thead>\n",
       "    <tr style=\"text-align: right;\">\n",
       "      <th></th>\n",
       "      <th>enrollment</th>\n",
       "      <th>count</th>\n",
       "    </tr>\n",
       "    <tr>\n",
       "      <th>year</th>\n",
       "      <th></th>\n",
       "      <th></th>\n",
       "    </tr>\n",
       "  </thead>\n",
       "  <tbody>\n",
       "    <tr>\n",
       "      <th>2010-2011</th>\n",
       "      <td>23550</td>\n",
       "      <td>525</td>\n",
       "    </tr>\n",
       "    <tr>\n",
       "      <th>2011-2012</th>\n",
       "      <td>25572</td>\n",
       "      <td>535</td>\n",
       "    </tr>\n",
       "    <tr>\n",
       "      <th>2012-2013</th>\n",
       "      <td>27361</td>\n",
       "      <td>568</td>\n",
       "    </tr>\n",
       "    <tr>\n",
       "      <th>2013-2014</th>\n",
       "      <td>28457</td>\n",
       "      <td>637</td>\n",
       "    </tr>\n",
       "    <tr>\n",
       "      <th>2014-2015</th>\n",
       "      <td>30646</td>\n",
       "      <td>681</td>\n",
       "    </tr>\n",
       "    <tr>\n",
       "      <th>2015-2016</th>\n",
       "      <td>31288</td>\n",
       "      <td>745</td>\n",
       "    </tr>\n",
       "    <tr>\n",
       "      <th>2016-2017</th>\n",
       "      <td>32988</td>\n",
       "      <td>773</td>\n",
       "    </tr>\n",
       "    <tr>\n",
       "      <th>2017-2018</th>\n",
       "      <td>32977</td>\n",
       "      <td>801</td>\n",
       "    </tr>\n",
       "    <tr>\n",
       "      <th>2018-2019</th>\n",
       "      <td>35219</td>\n",
       "      <td>852</td>\n",
       "    </tr>\n",
       "    <tr>\n",
       "      <th>2019-2020</th>\n",
       "      <td>36614</td>\n",
       "      <td>926</td>\n",
       "    </tr>\n",
       "  </tbody>\n",
       "</table>\n",
       "</div>"
      ],
      "text/plain": [
       "           enrollment  count\n",
       "year                        \n",
       "2010-2011       23550    525\n",
       "2011-2012       25572    535\n",
       "2012-2013       27361    568\n",
       "2013-2014       28457    637\n",
       "2014-2015       30646    681\n",
       "2015-2016       31288    745\n",
       "2016-2017       32988    773\n",
       "2017-2018       32977    801\n",
       "2018-2019       35219    852\n",
       "2019-2020       36614    926"
      ]
     },
     "execution_count": 37,
     "metadata": {},
     "output_type": "execute_result"
    }
   ],
   "source": [
    "df_tech"
   ]
  },
  {
   "cell_type": "code",
   "execution_count": 35,
   "metadata": {},
   "outputs": [
    {
     "data": {
      "text/html": [
       "<div>\n",
       "<style scoped>\n",
       "    .dataframe tbody tr th:only-of-type {\n",
       "        vertical-align: middle;\n",
       "    }\n",
       "\n",
       "    .dataframe tbody tr th {\n",
       "        vertical-align: top;\n",
       "    }\n",
       "\n",
       "    .dataframe thead th {\n",
       "        text-align: right;\n",
       "    }\n",
       "</style>\n",
       "<table border=\"1\" class=\"dataframe\">\n",
       "  <thead>\n",
       "    <tr style=\"text-align: right;\">\n",
       "      <th></th>\n",
       "      <th>enrollment</th>\n",
       "      <th>count</th>\n",
       "    </tr>\n",
       "    <tr>\n",
       "      <th>year</th>\n",
       "      <th></th>\n",
       "      <th></th>\n",
       "    </tr>\n",
       "  </thead>\n",
       "  <tbody>\n",
       "    <tr>\n",
       "      <th>2010-2011</th>\n",
       "      <td>110770</td>\n",
       "      <td>5239</td>\n",
       "    </tr>\n",
       "    <tr>\n",
       "      <th>2011-2012</th>\n",
       "      <td>111471</td>\n",
       "      <td>5385</td>\n",
       "    </tr>\n",
       "    <tr>\n",
       "      <th>2012-2013</th>\n",
       "      <td>110689</td>\n",
       "      <td>5613</td>\n",
       "    </tr>\n",
       "    <tr>\n",
       "      <th>2013-2014</th>\n",
       "      <td>112527</td>\n",
       "      <td>5834</td>\n",
       "    </tr>\n",
       "    <tr>\n",
       "      <th>2014-2015</th>\n",
       "      <td>113253</td>\n",
       "      <td>6013</td>\n",
       "    </tr>\n",
       "    <tr>\n",
       "      <th>2015-2016</th>\n",
       "      <td>111285</td>\n",
       "      <td>6210</td>\n",
       "    </tr>\n",
       "    <tr>\n",
       "      <th>2016-2017</th>\n",
       "      <td>113821</td>\n",
       "      <td>6322</td>\n",
       "    </tr>\n",
       "    <tr>\n",
       "      <th>2017-2018</th>\n",
       "      <td>112382</td>\n",
       "      <td>6345</td>\n",
       "    </tr>\n",
       "    <tr>\n",
       "      <th>2018-2019</th>\n",
       "      <td>114834</td>\n",
       "      <td>6561</td>\n",
       "    </tr>\n",
       "    <tr>\n",
       "      <th>2019-2020</th>\n",
       "      <td>110566</td>\n",
       "      <td>6515</td>\n",
       "    </tr>\n",
       "  </tbody>\n",
       "</table>\n",
       "</div>"
      ],
      "text/plain": [
       "           enrollment  count\n",
       "year                        \n",
       "2010-2011      110770   5239\n",
       "2011-2012      111471   5385\n",
       "2012-2013      110689   5613\n",
       "2013-2014      112527   5834\n",
       "2014-2015      113253   6013\n",
       "2015-2016      111285   6210\n",
       "2016-2017      113821   6322\n",
       "2017-2018      112382   6345\n",
       "2018-2019      114834   6561\n",
       "2019-2020      110566   6515"
      ]
     },
     "execution_count": 35,
     "metadata": {},
     "output_type": "execute_result"
    }
   ],
   "source": [
    "df_not_tech"
   ]
  },
  {
   "cell_type": "code",
   "execution_count": 67,
   "metadata": {},
   "outputs": [
    {
     "data": {
      "text/plain": [
       "<Figure size 432x288 with 0 Axes>"
      ]
     },
     "metadata": {},
     "output_type": "display_data"
    },
    {
     "data": {
      "image/png": "[encoded data removed]",
      "text/plain": [
       "<Figure size 504x360 with 1 Axes>"
      ]
     },
     "metadata": {
      "needs_background": "light"
     },
     "output_type": "display_data"
    }
   ],
   "source": [
    "df_tech = year_enrollment_df.loc[(year_enrollment_df['tech_description'] > 0) | (year_enrollment_df['subject'] == 'CS')]\n",
    "df_tech = df_tech.groupby('year').agg({'enrollment':'sum', 'code':'count'}).rename(columns = {'code':'count'})\n",
    "\n",
    "df_not_tech = year_enrollment_df.loc[(year_enrollment_df['tech_description'] == 0) & (year_enrollment_df['subject'] != 'CS')]\n",
    "df_not_tech = df_not_tech.groupby('year').agg({'enrollment':'sum', 'code':'count'}).rename(columns = {'code':'count'})\n",
    "\n",
    "plt.tight_layout()\n",
    "fig, ax = plt.subplots(figsize=(7, 5))\n",
    "ax.plot(df_tech.index, df_tech['enrollment'], label='tech-related courses')\n",
    "\n",
    "ax.plot(df_not_tech.index, df_not_tech['enrollment'], label='non-tech courses')\n",
    "\n",
    "ax.set_ylabel('Annual Enrollment (log scale)')\n",
    "ax.set_xlabel('Academic Year')\n",
    "ax.set_title('2010s Enrollment in Tech vs Non-Tech Courses')\n",
    "ax.legend()\n",
    "ax.set_yscale('log')\n",
    "ax.set_ylim((10000, 150000))\n",
    "ax.set_xticklabels(df_tech.index, rotation=45)\n",
    "ax.set_yticks(np.array([10000, 50000, 70000, 110000, 140000]))\n",
    "ax.set_yticklabels(np.array([10000, 50000, 70000, 110000, 140000]))\n",
    "fig.savefig('tech_non-tech_enrollment_log.png', format='png')"
   ]
  },
  {
   "cell_type": "code",
   "execution_count": 68,
   "metadata": {},
   "outputs": [
    {
     "data": {
      "text/plain": [
       "<Figure size 432x288 with 0 Axes>"
      ]
     },
     "metadata": {},
     "output_type": "display_data"
    },
    {
     "data": {
      "image/png": "[encoded data removed]",
      "text/plain": [
       "<Figure size 504x360 with 1 Axes>"
      ]
     },
     "metadata": {
      "needs_background": "light"
     },
     "output_type": "display_data"
    }
   ],
   "source": [
    "df_tech = year_enrollment_df.loc[(year_enrollment_df['tech_description'] > 0) | (year_enrollment_df['subject'] == 'CS')]\n",
    "df_tech = df_tech.groupby('year').agg({'enrollment':'sum', 'code':'count'}).rename(columns = {'code':'count'})\n",
    "\n",
    "df_not_tech = year_enrollment_df.loc[(year_enrollment_df['tech_description'] == 0) & (year_enrollment_df['subject'] != 'CS')]\n",
    "df_not_tech = df_not_tech.groupby('year').agg({'enrollment':'sum', 'code':'count'}).rename(columns = {'code':'count'})\n",
    "\n",
    "plt.tight_layout()\n",
    "fig, ax = plt.subplots(figsize=(7, 5))\n",
    "ax.plot(df_tech.index, df_tech['enrollment'], label='tech-related courses')\n",
    "\n",
    "ax.plot(df_not_tech.index, df_not_tech['enrollment'], label='non-tech courses')\n",
    "\n",
    "ax.set_ylabel('Annual Enrollment')\n",
    "ax.set_xlabel('Academic Year')\n",
    "ax.set_title('2010s Enrollment in Tech vs Non-Tech Courses')\n",
    "ax.legend()\n",
    "ax.set_yticks(np.array([10000, 50000, 90000, 130000]))\n",
    "ax.set_yticklabels(np.array([10000, 50000, 90000, 130000]))\n",
    "ax.set_xticklabels(df_tech.index, rotation=45)\n",
    "fig.savefig('tech_non-tech_enrollment_nolog.png', format='png')"
   ]
  },
  {
   "cell_type": "markdown",
   "metadata": {},
   "source": [
    "### Enrollment in tech + ethics classes"
   ]
  },
  {
   "cell_type": "code",
   "execution_count": 70,
   "metadata": {},
   "outputs": [
    {
     "data": {
      "image/png": "[encoded data removed]",
      "text/plain": [
       "<Figure size 432x288 with 1 Axes>"
      ]
     },
     "metadata": {
      "needs_background": "light"
     },
     "output_type": "display_data"
    }
   ],
   "source": [
    "df_tech = year_enrollment_df.loc[(year_enrollment_df['tech_description'] > 0) | (year_enrollment_df['subject'] == 'CS')]\n",
    "df_tech = df_tech.groupby('year').agg({'enrollment':'sum', 'code':'count'}).rename(columns = {'code':'count'})\n",
    "\n",
    "df_ethics = year_enrollment_df.loc[(year_enrollment_df['ethics_description'] > 0)]\n",
    "df_ethics = df_ethics.groupby('year').agg({'enrollment':'sum', 'code':'count'}).rename(columns = {'code':'count'})\n",
    "\n",
    "df_tech_ethics = year_enrollment_df.loc[(year_enrollment_df['tech_description'] > 0) & (year_enrollment_df['ethics_description'] > 0)]\n",
    "df_tech_ethics = df_tech_ethics.groupby('year').agg({'enrollment':'sum', 'code':'count'}).rename(columns = {'code':'count'})\n",
    "\n",
    "fig, ax = plt.subplots(figsize=(6, 4))\n",
    "#ax.plot(df_tech.index, df_tech['enrollment'], label='tech-related courses')\n",
    "ax.plot(df_ethics.index, df_ethics['enrollment'], label='ethics courses')\n",
    "ax.plot(df_tech_ethics.index, df_tech_ethics['enrollment'], label='tech ethics courses')\n",
    "\n",
    "ax.set_ylabel('Annual Enrollment')\n",
    "ax.set_xlabel('Academic Year')\n",
    "ax.set_title('Enrollment in Ethics+Tech Courses')\n",
    "ax.legend(loc='center right')\n",
    "ax.set_xticklabels(df_tech.index, rotation=45)\n",
    "\n",
    "fig.savefig('tech_ethics_enrollment.png', format='png')"
   ]
  },
  {
   "cell_type": "code",
   "execution_count": 105,
   "metadata": {},
   "outputs": [
    {
     "data": {
      "text/html": [
       "<div>\n",
       "<style scoped>\n",
       "    .dataframe tbody tr th:only-of-type {\n",
       "        vertical-align: middle;\n",
       "    }\n",
       "\n",
       "    .dataframe tbody tr th {\n",
       "        vertical-align: top;\n",
       "    }\n",
       "\n",
       "    .dataframe thead th {\n",
       "        text-align: right;\n",
       "    }\n",
       "</style>\n",
       "<table border=\"1\" class=\"dataframe\">\n",
       "  <thead>\n",
       "    <tr style=\"text-align: right;\">\n",
       "      <th></th>\n",
       "      <th>enrollment</th>\n",
       "      <th>count</th>\n",
       "    </tr>\n",
       "    <tr>\n",
       "      <th>year</th>\n",
       "      <th></th>\n",
       "      <th></th>\n",
       "    </tr>\n",
       "  </thead>\n",
       "  <tbody>\n",
       "    <tr>\n",
       "      <th>2010-2011</th>\n",
       "      <td>10412</td>\n",
       "      <td>429</td>\n",
       "    </tr>\n",
       "    <tr>\n",
       "      <th>2011-2012</th>\n",
       "      <td>11443</td>\n",
       "      <td>456</td>\n",
       "    </tr>\n",
       "    <tr>\n",
       "      <th>2012-2013</th>\n",
       "      <td>9023</td>\n",
       "      <td>499</td>\n",
       "    </tr>\n",
       "    <tr>\n",
       "      <th>2013-2014</th>\n",
       "      <td>9745</td>\n",
       "      <td>518</td>\n",
       "    </tr>\n",
       "    <tr>\n",
       "      <th>2014-2015</th>\n",
       "      <td>9857</td>\n",
       "      <td>602</td>\n",
       "    </tr>\n",
       "    <tr>\n",
       "      <th>2015-2016</th>\n",
       "      <td>10089</td>\n",
       "      <td>617</td>\n",
       "    </tr>\n",
       "    <tr>\n",
       "      <th>2016-2017</th>\n",
       "      <td>11579</td>\n",
       "      <td>659</td>\n",
       "    </tr>\n",
       "    <tr>\n",
       "      <th>2017-2018</th>\n",
       "      <td>12481</td>\n",
       "      <td>733</td>\n",
       "    </tr>\n",
       "    <tr>\n",
       "      <th>2018-2019</th>\n",
       "      <td>11912</td>\n",
       "      <td>724</td>\n",
       "    </tr>\n",
       "    <tr>\n",
       "      <th>2019-2020</th>\n",
       "      <td>12039</td>\n",
       "      <td>746</td>\n",
       "    </tr>\n",
       "  </tbody>\n",
       "</table>\n",
       "</div>"
      ],
      "text/plain": [
       "           enrollment  count\n",
       "year                        \n",
       "2010-2011       10412    429\n",
       "2011-2012       11443    456\n",
       "2012-2013        9023    499\n",
       "2013-2014        9745    518\n",
       "2014-2015        9857    602\n",
       "2015-2016       10089    617\n",
       "2016-2017       11579    659\n",
       "2017-2018       12481    733\n",
       "2018-2019       11912    724\n",
       "2019-2020       12039    746"
      ]
     },
     "execution_count": 105,
     "metadata": {},
     "output_type": "execute_result"
    }
   ],
   "source": [
    "df_ethics"
   ]
  },
  {
   "cell_type": "code",
   "execution_count": 106,
   "metadata": {},
   "outputs": [
    {
     "data": {
      "image/png": "[encoded data removed]",
      "text/plain": [
       "<Figure size 432x288 with 1 Axes>"
      ]
     },
     "metadata": {},
     "output_type": "display_data"
    }
   ],
   "source": [
    "df_tech = year_enrollment_df.loc[(year_enrollment_df['tech_description'] > 0) | (year_enrollment_df['subject'] == 'CS')]\n",
    "df_tech = df_tech.groupby('year').agg({'enrollment':'sum', 'code':'count'}).rename(columns = {'code':'count'})\n",
    "\n",
    "df_ethics = year_enrollment_df.loc[(year_enrollment_df['ethics_description'] > 0)]\n",
    "df_ethics = df_ethics.groupby('year').agg({'enrollment':'sum', 'code':'count'}).rename(columns = {'code':'count'})\n",
    "\n",
    "df_tech_ethics = year_enrollment_df.loc[(year_enrollment_df['tech_description'] > 0) & (year_enrollment_df['ethics_description'] > 0)]\n",
    "df_tech_ethics = df_tech_ethics.groupby('year').agg({'enrollment':'sum', 'code':'count'}).rename(columns = {'code':'count'})\n",
    "\n",
    "fig, ax = plt.subplots(figsize=(6, 4))\n",
    "ax.plot(df_ethics.index, df_ethics['count'], label='ethics courses')\n",
    "ax.plot(df_tech_ethics.index, df_tech_ethics['count'], label='tech ethics courses')\n",
    "\n",
    "ax.set_ylabel('Annual number of courses')\n",
    "ax.set_xlabel('Academic Year')\n",
    "ax.set_title('No of Ethics+Tech Courses')\n",
    "ax.legend(loc='center right')\n",
    "ax.set_xticklabels(df_ethics.index, rotation=45)\n",
    "\n",
    "fig.savefig('tech_ethics_count.png', format='png')"
   ]
  },
  {
   "cell_type": "markdown",
   "metadata": {},
   "source": [
    "### (CS Tech Ethics courses)"
   ]
  },
  {
   "cell_type": "code",
   "execution_count": 110,
   "metadata": {},
   "outputs": [
    {
     "data": {
      "text/html": [
       "<div>\n",
       "<style scoped>\n",
       "    .dataframe tbody tr th:only-of-type {\n",
       "        vertical-align: middle;\n",
       "    }\n",
       "\n",
       "    .dataframe tbody tr th {\n",
       "        vertical-align: top;\n",
       "    }\n",
       "\n",
       "    .dataframe thead th {\n",
       "        text-align: right;\n",
       "    }\n",
       "</style>\n",
       "<table border=\"1\" class=\"dataframe\">\n",
       "  <thead>\n",
       "    <tr style=\"text-align: right;\">\n",
       "      <th></th>\n",
       "      <th>enrollment</th>\n",
       "      <th>count</th>\n",
       "    </tr>\n",
       "    <tr>\n",
       "      <th>year</th>\n",
       "      <th></th>\n",
       "      <th></th>\n",
       "    </tr>\n",
       "  </thead>\n",
       "  <tbody>\n",
       "    <tr>\n",
       "      <th>2010-2011</th>\n",
       "      <td>70</td>\n",
       "      <td>2</td>\n",
       "    </tr>\n",
       "    <tr>\n",
       "      <th>2014-2015</th>\n",
       "      <td>212</td>\n",
       "      <td>2</td>\n",
       "    </tr>\n",
       "    <tr>\n",
       "      <th>2015-2016</th>\n",
       "      <td>499</td>\n",
       "      <td>6</td>\n",
       "    </tr>\n",
       "    <tr>\n",
       "      <th>2016-2017</th>\n",
       "      <td>1105</td>\n",
       "      <td>7</td>\n",
       "    </tr>\n",
       "    <tr>\n",
       "      <th>2017-2018</th>\n",
       "      <td>1385</td>\n",
       "      <td>7</td>\n",
       "    </tr>\n",
       "    <tr>\n",
       "      <th>2018-2019</th>\n",
       "      <td>1170</td>\n",
       "      <td>9</td>\n",
       "    </tr>\n",
       "    <tr>\n",
       "      <th>2019-2020</th>\n",
       "      <td>1053</td>\n",
       "      <td>13</td>\n",
       "    </tr>\n",
       "  </tbody>\n",
       "</table>\n",
       "</div>"
      ],
      "text/plain": [
       "           enrollment  count\n",
       "year                        \n",
       "2010-2011          70      2\n",
       "2014-2015         212      2\n",
       "2015-2016         499      6\n",
       "2016-2017        1105      7\n",
       "2017-2018        1385      7\n",
       "2018-2019        1170      9\n",
       "2019-2020        1053     13"
      ]
     },
     "execution_count": 110,
     "metadata": {},
     "output_type": "execute_result"
    }
   ],
   "source": [
    "cs_tech_ethics = year_enrollment_df.loc[(year_enrollment_df['subject'] == 'CS')\\\n",
    "                                       &(year_enrollment_df['ethics_description'] > 0)]\n",
    "cs_tech_ethics = cs_tech_ethics.groupby('year').agg({'enrollment':'sum', 'code':'count'}).rename(columns = {'code':'count'})\n",
    "cs_tech_ethics"
   ]
  },
  {
   "cell_type": "markdown",
   "metadata": {},
   "source": [
    "### Enrollment in CS 181 + 182"
   ]
  },
  {
   "cell_type": "code",
   "execution_count": 108,
   "metadata": {},
   "outputs": [
    {
     "data": {
      "text/plain": [
       "[]"
      ]
     },
     "execution_count": 108,
     "metadata": {},
     "output_type": "execute_result"
    },
    {
     "data": {
      "image/png": "[encoded data removed]",
      "text/plain": [
       "<Figure size 432x288 with 1 Axes>"
      ]
     },
     "metadata": {},
     "output_type": "display_data"
    }
   ],
   "source": [
    "codes = ['181', '182']\n",
    "\n",
    "for code in codes:\n",
    "    code_df = year_enrollment_df.loc[(year_enrollment_df['code'] == code) & (year_enrollment_df['subject'] == 'CS')]\n",
    "    plt.plot(code_df['year'], code_df['enrollment'], label=code)\n",
    "\n",
    "plt.ylabel('Yearly Enrollment')\n",
    "plt.xlabel('Academic Year')\n",
    "plt.title('2010s Enrollment in CS + Ethics Classes')\n",
    "plt.legend()\n",
    "plt.xticks(rotation=45)\n",
    "plt.plot()"
   ]
  },
  {
   "cell_type": "code",
   "execution_count": null,
   "metadata": {},
   "outputs": [],
   "source": []
  }
 ],
 "metadata": {
  "kernelspec": {
   "display_name": "Python 3",
   "language": "python",
   "name": "python3"
  },
  "language_info": {
   "codemirror_mode": {
    "name": "ipython",
    "version": 3
   },
   "file_extension": ".py",
   "mimetype": "text/x-python",
   "name": "python",
   "nbconvert_exporter": "python",
   "pygments_lexer": "ipython3",
   "version": "3.7.4"
  }
 },
 "nbformat": 4,
 "nbformat_minor": 4
}
